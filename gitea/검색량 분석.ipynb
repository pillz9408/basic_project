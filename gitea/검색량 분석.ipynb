{
 "cells": [
  {
   "cell_type": "code",
   "execution_count": 1,
   "metadata": {},
   "outputs": [],
   "source": [
    "import re\n",
    "import pandas as pd\n",
    "from collections import Counter\n",
    "\n",
    "import matplotlib.pyplot as plt\n",
    "import numpy as np\n",
    "import pandas as pd\n",
    "import seaborn as sns\n",
    "from matplotlib import font_manager, rc\n",
    "\n",
    "font_name = font_manager.FontProperties(fname='C:/Windows/Fonts/malgun.ttf').get_name()\n",
    "\n",
    "rc('font',family=font_name) # 한글 폰트"
   ]
  },
  {
   "cell_type": "code",
   "execution_count": 2,
   "metadata": {},
   "outputs": [
    {
     "data": {
      "text/plain": [
       "500"
      ]
     },
     "execution_count": 2,
     "metadata": {},
     "output_type": "execute_result"
    }
   ],
   "source": [
    "asd = pd.read_csv('storeTitle.csv', encoding='utf-8')\n",
    "len(asd)"
   ]
  },
  {
   "cell_type": "code",
   "execution_count": 3,
   "metadata": {},
   "outputs": [],
   "source": [
    "qwe=[]\n",
    "for i in range(len(asd)):\n",
    "    qwe.append(asd['상호명'][i])"
   ]
  },
  {
   "cell_type": "code",
   "execution_count": 4,
   "metadata": {},
   "outputs": [],
   "source": [
    "from asyncio.windows_events import NULL\n",
    "\n",
    "\n",
    "a = re.compile(\"\\s.+점\")\n",
    "\n",
    "# for i in range(len(qwe)):\n",
    "#     try:\n",
    "#         qwe[i] = qwe[i].replace(a.findall(f\"{qwe[i]}\")[0],'')\n",
    "#     except:\n",
    "#         pass\n",
    "\n",
    "qwe_r =[]\n",
    "\n",
    "for i in range(len(qwe)):\n",
    "    qwe_r.append(a.findall(f\"{qwe[i]}\"))\n",
    "    \n",
    "    if a.findall(f\"{qwe[i]}\") ==[]:\n",
    "        qwe_r[i] = ['']\n",
    "\n",
    "for i in range(len(qwe)):   \n",
    "    qwe[i] = qwe[i].replace(qwe_r[i][0],'')"
   ]
  },
  {
   "cell_type": "code",
   "execution_count": 5,
   "metadata": {},
   "outputs": [
    {
     "data": {
      "text/plain": [
       "[('스타벅스', 6),\n",
       " ('투썸플레이스', 4),\n",
       " ('원조부안집', 2),\n",
       " ('비엔나커피하우스', 2),\n",
       " ('태양커피', 2),\n",
       " ('크래프트한스', 2),\n",
       " ('이고집쭈꾸미', 2),\n",
       " ('오늘와인한잔', 2),\n",
       " ('남오토코', 2),\n",
       " ('파리바게뜨', 2),\n",
       " ('매드포갈릭', 2),\n",
       " ('애플하우스 이수', 1),\n",
       " ('세녹', 1),\n",
       " ('스시로로', 1),\n",
       " ('방배김밥', 1),\n",
       " ('전주전집', 1),\n",
       " ('이수통닭', 1),\n",
       " ('소담촌', 1),\n",
       " ('호우양꼬치', 1),\n",
       " ('호요', 1)]"
      ]
     },
     "execution_count": 5,
     "metadata": {},
     "output_type": "execute_result"
    }
   ],
   "source": [
    "Counter(qwe).most_common(20)"
   ]
  },
  {
   "cell_type": "code",
   "execution_count": 6,
   "metadata": {},
   "outputs": [
    {
     "name": "stdout",
     "output_type": "stream",
     "text": [
      "        0\n",
      "36   스타벅스\n",
      "98   스타벅스\n",
      "172  스타벅스\n",
      "197  스타벅스\n",
      "310  스타벅스\n",
      "473  스타벅스           0\n",
      "199  투썸플레이스\n",
      "207  투썸플레이스\n",
      "455  투썸플레이스\n",
      "492  투썸플레이스          0\n",
      "1    원조부안집\n",
      "338  원조부안집             0\n",
      "17   비엔나커피하우스\n",
      "372  비엔나커피하우스        0\n",
      "39  태양커피\n",
      "63  태양커피           0\n",
      "84   크래프트한스\n",
      "304  크래프트한스           0\n",
      "118  이고집쭈꾸미\n",
      "420  이고집쭈꾸미           0\n",
      "190  오늘와인한잔\n",
      "220  오늘와인한잔         0\n",
      "285  남오토코\n",
      "357  남오토코          0\n",
      "311  파리바게뜨\n",
      "346  파리바게뜨          0\n",
      "493  매드포갈릭\n",
      "496  매드포갈릭\n"
     ]
    }
   ],
   "source": [
    "qwe_df = pd.DataFrame(qwe)\n",
    "print(\n",
    "qwe_df [qwe_df[0] == '스타벅스'],qwe_df [qwe_df[0] == '투썸플레이스'],qwe_df [qwe_df[0] == '원조부안집'],\n",
    "qwe_df [qwe_df[0] == '비엔나커피하우스'],qwe_df [qwe_df[0] == '태양커피'],qwe_df [qwe_df[0] == '크래프트한스'],\n",
    "qwe_df [qwe_df[0] == '이고집쭈꾸미'],qwe_df [qwe_df[0] == '오늘와인한잔'],qwe_df [qwe_df[0] == '남오토코'],\n",
    "qwe_df [qwe_df[0] == '파리바게뜨'],qwe_df [qwe_df[0] == '매드포갈릭'])"
   ]
  },
  {
   "cell_type": "code",
   "execution_count": 7,
   "metadata": {},
   "outputs": [],
   "source": [
    "result_list = pd.read_csv('result_list.csv', encoding='utf-8')"
   ]
  },
  {
   "cell_type": "code",
   "execution_count": 8,
   "metadata": {},
   "outputs": [],
   "source": [
    "result_list = result_list.drop(columns= 'Unnamed: 0')"
   ]
  },
  {
   "cell_type": "code",
   "execution_count": 9,
   "metadata": {},
   "outputs": [],
   "source": [
    "result_list['음식점'] = qwe"
   ]
  },
  {
   "cell_type": "code",
   "execution_count": 10,
   "metadata": {},
   "outputs": [],
   "source": [
    "result_list.to_csv('result_list2.csv',encoding='utf-8')"
   ]
  },
  {
   "cell_type": "code",
   "execution_count": 11,
   "metadata": {},
   "outputs": [
    {
     "data": {
      "text/html": [
       "<div>\n",
       "<style scoped>\n",
       "    .dataframe tbody tr th:only-of-type {\n",
       "        vertical-align: middle;\n",
       "    }\n",
       "\n",
       "    .dataframe tbody tr th {\n",
       "        vertical-align: top;\n",
       "    }\n",
       "\n",
       "    .dataframe thead th {\n",
       "        text-align: right;\n",
       "    }\n",
       "</style>\n",
       "<table border=\"1\" class=\"dataframe\">\n",
       "  <thead>\n",
       "    <tr style=\"text-align: right;\">\n",
       "      <th></th>\n",
       "      <th>Unnamed: 0</th>\n",
       "      <th>검색결과</th>\n",
       "      <th>음식점</th>\n",
       "    </tr>\n",
       "  </thead>\n",
       "  <tbody>\n",
       "    <tr>\n",
       "      <th>0</th>\n",
       "      <td>0</td>\n",
       "      <td>0(0.22초)</td>\n",
       "      <td>애플하우스 이수</td>\n",
       "    </tr>\n",
       "    <tr>\n",
       "      <th>1</th>\n",
       "      <td>1</td>\n",
       "      <td>5(0.25초)</td>\n",
       "      <td>원조부안집</td>\n",
       "    </tr>\n",
       "    <tr>\n",
       "      <th>2</th>\n",
       "      <td>2</td>\n",
       "      <td>1(0.20초)</td>\n",
       "      <td>세녹</td>\n",
       "    </tr>\n",
       "    <tr>\n",
       "      <th>3</th>\n",
       "      <td>3</td>\n",
       "      <td>4(0.23초)</td>\n",
       "      <td>스시로로</td>\n",
       "    </tr>\n",
       "    <tr>\n",
       "      <th>4</th>\n",
       "      <td>4</td>\n",
       "      <td>5(0.26초)</td>\n",
       "      <td>방배김밥</td>\n",
       "    </tr>\n",
       "    <tr>\n",
       "      <th>...</th>\n",
       "      <td>...</td>\n",
       "      <td>...</td>\n",
       "      <td>...</td>\n",
       "    </tr>\n",
       "    <tr>\n",
       "      <th>495</th>\n",
       "      <td>495</td>\n",
       "      <td>0(0.23초)</td>\n",
       "      <td>한앤둘치킨호프</td>\n",
       "    </tr>\n",
       "    <tr>\n",
       "      <th>496</th>\n",
       "      <td>496</td>\n",
       "      <td>112(0.36초)</td>\n",
       "      <td>매드포갈릭</td>\n",
       "    </tr>\n",
       "    <tr>\n",
       "      <th>497</th>\n",
       "      <td>497</td>\n",
       "      <td>6(0.26초)</td>\n",
       "      <td>민속떡집</td>\n",
       "    </tr>\n",
       "    <tr>\n",
       "      <th>498</th>\n",
       "      <td>498</td>\n",
       "      <td>192(0.29초)</td>\n",
       "      <td>전원일기</td>\n",
       "    </tr>\n",
       "    <tr>\n",
       "      <th>499</th>\n",
       "      <td>499</td>\n",
       "      <td>3(0.25초)</td>\n",
       "      <td>고양이부엌</td>\n",
       "    </tr>\n",
       "  </tbody>\n",
       "</table>\n",
       "<p>500 rows × 3 columns</p>\n",
       "</div>"
      ],
      "text/plain": [
       "     Unnamed: 0        검색결과       음식점\n",
       "0             0    0(0.22초)  애플하우스 이수\n",
       "1             1    5(0.25초)     원조부안집\n",
       "2             2    1(0.20초)        세녹\n",
       "3             3    4(0.23초)      스시로로\n",
       "4             4    5(0.26초)      방배김밥\n",
       "..          ...         ...       ...\n",
       "495         495    0(0.23초)   한앤둘치킨호프\n",
       "496         496  112(0.36초)     매드포갈릭\n",
       "497         497    6(0.26초)      민속떡집\n",
       "498         498  192(0.29초)      전원일기\n",
       "499         499    3(0.25초)     고양이부엌\n",
       "\n",
       "[500 rows x 3 columns]"
      ]
     },
     "execution_count": 11,
     "metadata": {},
     "output_type": "execute_result"
    }
   ],
   "source": [
    "pd.read_csv('result_list2.csv',encoding='utf-8')"
   ]
  },
  {
   "cell_type": "code",
   "execution_count": 12,
   "metadata": {},
   "outputs": [
    {
     "name": "stdout",
     "output_type": "stream",
     "text": [
      "        0\n",
      "36   스타벅스\n",
      "98   스타벅스\n",
      "172  스타벅스\n",
      "197  스타벅스\n",
      "310  스타벅스\n",
      "473  스타벅스           0\n",
      "199  투썸플레이스\n",
      "207  투썸플레이스\n",
      "455  투썸플레이스\n",
      "492  투썸플레이스          0\n",
      "1    원조부안집\n",
      "338  원조부안집             0\n",
      "17   비엔나커피하우스\n",
      "372  비엔나커피하우스        0\n",
      "39  태양커피\n",
      "63  태양커피           0\n",
      "84   크래프트한스\n",
      "304  크래프트한스           0\n",
      "118  이고집쭈꾸미\n",
      "420  이고집쭈꾸미           0\n",
      "190  오늘와인한잔\n",
      "220  오늘와인한잔         0\n",
      "285  남오토코\n",
      "357  남오토코          0\n",
      "311  파리바게뜨\n",
      "346  파리바게뜨          0\n",
      "493  매드포갈릭\n",
      "496  매드포갈릭\n"
     ]
    }
   ],
   "source": [
    "print(\n",
    "qwe_df [qwe_df[0] == '스타벅스'],qwe_df [qwe_df[0] == '투썸플레이스'],qwe_df [qwe_df[0] == '원조부안집'],\n",
    "qwe_df [qwe_df[0] == '비엔나커피하우스'],qwe_df [qwe_df[0] == '태양커피'],qwe_df [qwe_df[0] == '크래프트한스'],\n",
    "qwe_df [qwe_df[0] == '이고집쭈꾸미'],qwe_df [qwe_df[0] == '오늘와인한잔'],qwe_df [qwe_df[0] == '남오토코'],\n",
    "qwe_df [qwe_df[0] == '파리바게뜨'],qwe_df [qwe_df[0] == '매드포갈릭'])"
   ]
  },
  {
   "cell_type": "code",
   "execution_count": 17,
   "metadata": {},
   "outputs": [
    {
     "data": {
      "text/plain": [
       "98"
      ]
     },
     "execution_count": 17,
     "metadata": {},
     "output_type": "execute_result"
    }
   ],
   "source": [
    "result_list.iloc"
   ]
  },
  {
   "cell_type": "code",
   "execution_count": 21,
   "metadata": {},
   "outputs": [
    {
     "data": {
      "text/html": [
       "<div>\n",
       "<style scoped>\n",
       "    .dataframe tbody tr th:only-of-type {\n",
       "        vertical-align: middle;\n",
       "    }\n",
       "\n",
       "    .dataframe tbody tr th {\n",
       "        vertical-align: top;\n",
       "    }\n",
       "\n",
       "    .dataframe thead th {\n",
       "        text-align: right;\n",
       "    }\n",
       "</style>\n",
       "<table border=\"1\" class=\"dataframe\">\n",
       "  <thead>\n",
       "    <tr style=\"text-align: right;\">\n",
       "      <th></th>\n",
       "      <th>검색결과</th>\n",
       "      <th>음식점</th>\n",
       "    </tr>\n",
       "  </thead>\n",
       "  <tbody>\n",
       "    <tr>\n",
       "      <th>98</th>\n",
       "      <td>31,400(0.58초)</td>\n",
       "      <td>스타벅스</td>\n",
       "    </tr>\n",
       "    <tr>\n",
       "      <th>172</th>\n",
       "      <td>31,400(0.29초)</td>\n",
       "      <td>스타벅스</td>\n",
       "    </tr>\n",
       "    <tr>\n",
       "      <th>197</th>\n",
       "      <td>31,400(0.29초)</td>\n",
       "      <td>스타벅스</td>\n",
       "    </tr>\n",
       "    <tr>\n",
       "      <th>310</th>\n",
       "      <td>31,400(0.36초)</td>\n",
       "      <td>스타벅스</td>\n",
       "    </tr>\n",
       "    <tr>\n",
       "      <th>473</th>\n",
       "      <td>31,400(0.33초)</td>\n",
       "      <td>스타벅스</td>\n",
       "    </tr>\n",
       "    <tr>\n",
       "      <th>207</th>\n",
       "      <td>3,250(0.39초)</td>\n",
       "      <td>투썸플레이스</td>\n",
       "    </tr>\n",
       "    <tr>\n",
       "      <th>455</th>\n",
       "      <td>3,250(0.33초)</td>\n",
       "      <td>투썸플레이스</td>\n",
       "    </tr>\n",
       "    <tr>\n",
       "      <th>492</th>\n",
       "      <td>3,250(0.33초)</td>\n",
       "      <td>투썸플레이스</td>\n",
       "    </tr>\n",
       "    <tr>\n",
       "      <th>338</th>\n",
       "      <td>5(0.40초)</td>\n",
       "      <td>원조부안집</td>\n",
       "    </tr>\n",
       "    <tr>\n",
       "      <th>372</th>\n",
       "      <td>2(0.29초)</td>\n",
       "      <td>비엔나커피하우스</td>\n",
       "    </tr>\n",
       "    <tr>\n",
       "      <th>63</th>\n",
       "      <td>2(0.37초)</td>\n",
       "      <td>태양커피</td>\n",
       "    </tr>\n",
       "    <tr>\n",
       "      <th>304</th>\n",
       "      <td>3(0.39초)</td>\n",
       "      <td>크래프트한스</td>\n",
       "    </tr>\n",
       "    <tr>\n",
       "      <th>420</th>\n",
       "      <td>1(0.26초)</td>\n",
       "      <td>이고집쭈꾸미</td>\n",
       "    </tr>\n",
       "    <tr>\n",
       "      <th>220</th>\n",
       "      <td>6(0.43초)</td>\n",
       "      <td>오늘와인한잔</td>\n",
       "    </tr>\n",
       "    <tr>\n",
       "      <th>357</th>\n",
       "      <td>0(0.23초)</td>\n",
       "      <td>남오토코</td>\n",
       "    </tr>\n",
       "    <tr>\n",
       "      <th>346</th>\n",
       "      <td>2,300(0.42초)</td>\n",
       "      <td>파리바게뜨</td>\n",
       "    </tr>\n",
       "    <tr>\n",
       "      <th>496</th>\n",
       "      <td>112(0.36초)</td>\n",
       "      <td>매드포갈릭</td>\n",
       "    </tr>\n",
       "  </tbody>\n",
       "</table>\n",
       "</div>"
      ],
      "text/plain": [
       "              검색결과       음식점\n",
       "98   31,400(0.58초)      스타벅스\n",
       "172  31,400(0.29초)      스타벅스\n",
       "197  31,400(0.29초)      스타벅스\n",
       "310  31,400(0.36초)      스타벅스\n",
       "473  31,400(0.33초)      스타벅스\n",
       "207   3,250(0.39초)    투썸플레이스\n",
       "455   3,250(0.33초)    투썸플레이스\n",
       "492   3,250(0.33초)    투썸플레이스\n",
       "338       5(0.40초)     원조부안집\n",
       "372       2(0.29초)  비엔나커피하우스\n",
       "63        2(0.37초)      태양커피\n",
       "304       3(0.39초)    크래프트한스\n",
       "420       1(0.26초)    이고집쭈꾸미\n",
       "220       6(0.43초)    오늘와인한잔\n",
       "357       0(0.23초)      남오토코\n",
       "346   2,300(0.42초)     파리바게뜨\n",
       "496     112(0.36초)     매드포갈릭"
      ]
     },
     "execution_count": 21,
     "metadata": {},
     "output_type": "execute_result"
    }
   ],
   "source": [
    "rlrl = [98,172,197,310,473,207,455,492,338,372,63,304,420,220,357,346,496]\n",
    "result_list.iloc[rlrl]\n"
   ]
  },
  {
   "cell_type": "code",
   "execution_count": 13,
   "metadata": {},
   "outputs": [],
   "source": [
    "result_list.drop(index=[98,172,197,310,473], inplace=True)\n",
    "result_list.drop(index=[207,455,492], inplace=True)\n",
    "result_list.drop(index=[338,372,63,304,420,220,357], inplace=True)\n",
    "result_list.drop(index=[346,496], inplace=True)\n",
    "result_list = result_list.reset_index(drop=True)"
   ]
  },
  {
   "cell_type": "code",
   "execution_count": 14,
   "metadata": {},
   "outputs": [
    {
     "data": {
      "text/plain": [
       "483"
      ]
     },
     "execution_count": 14,
     "metadata": {},
     "output_type": "execute_result"
    }
   ],
   "source": [
    "len(result_list)"
   ]
  },
  {
   "cell_type": "code",
   "execution_count": 15,
   "metadata": {},
   "outputs": [],
   "source": [
    "a = re.compile(\"\\([0-9]*.*[0-9]*\\)\")\n",
    "result_list_r = []\n",
    "for i in range(len(result_list)):\n",
    "    result_list_r.append(a.findall(f\"{result_list['검색결과'][i]}\"))\n",
    "\n",
    "for i in range(len(result_list)):   \n",
    "    result_list['검색결과'][i] = result_list['검색결과'][i].replace(result_list_r[i][0],'')"
   ]
  },
  {
   "cell_type": "code",
   "execution_count": 16,
   "metadata": {},
   "outputs": [],
   "source": [
    "a = re.compile(\",\")\n",
    "result_list_r = []\n",
    "for i in range(len(result_list)):\n",
    "    result_list_r.append(a.findall(f\"{result_list['검색결과'][i]}\"))\n",
    "    \n",
    "    if a.findall(f\"{result_list['검색결과'][i]}\") ==[]:\n",
    "        result_list_r[i] = ['']\n",
    "\n",
    "for i in range(len(result_list)):   \n",
    "    result_list['검색결과'][i] = result_list['검색결과'][i].replace(result_list_r[i][0],'')\n",
    "    \n"
   ]
  },
  {
   "cell_type": "code",
   "execution_count": 17,
   "metadata": {},
   "outputs": [],
   "source": [
    "result_list['검색결과'] = result_list['검색결과'].astype('int64')"
   ]
  },
  {
   "cell_type": "code",
   "execution_count": 18,
   "metadata": {},
   "outputs": [],
   "source": [
    "rls = result_list['검색결과'].sort_values(ascending=False)\n"
   ]
  },
  {
   "cell_type": "code",
   "execution_count": 109,
   "metadata": {},
   "outputs": [
    {
     "data": {
      "text/plain": [
       "검색결과       5\n",
       "음식점     방배김밥\n",
       "Name: 4, dtype: object"
      ]
     },
     "execution_count": 109,
     "metadata": {},
     "output_type": "execute_result"
    }
   ],
   "source": [
    "result_list.iloc[4]"
   ]
  },
  {
   "cell_type": "code",
   "execution_count": null,
   "metadata": {},
   "outputs": [],
   "source": []
  },
  {
   "cell_type": "code",
   "execution_count": 68,
   "metadata": {},
   "outputs": [
    {
     "data": {
      "image/png": "[encoded data removed]",
      "text/plain": [
       "<Figure size 720x720 with 1 Axes>"
      ]
     },
     "metadata": {},
     "output_type": "display_data"
    }
   ],
   "source": [
    "plt.rc('font', size=15)\n",
    "plt.figure(figsize=(10,10)).patch.set_facecolor('w')\n",
    "plt.pie([len(result_list[result_list['검색결과']>100]),\n",
    "          len(result_list[result_list['검색결과']<100])],\n",
    "        autopct=\"%3.2f%%\",labels=['있다','없다'],\n",
    "        explode=[0.1,0],shadow=True,\n",
    "        colors=['#c1abff', '#d8efc5'])\n",
    "plt.title('영양성분표시 유무')\n",
    "plt.show()"
   ]
  },
  {
   "cell_type": "code",
   "execution_count": null,
   "metadata": {},
   "outputs": [],
   "source": []
  }
 ],
 "metadata": {
  "kernelspec": {
   "display_name": "Python 3.9.12 ('base')",
   "language": "python",
   "name": "python3"
  },
  "language_info": {
   "codemirror_mode": {
    "name": "ipython",
    "version": 3
   },
   "file_extension": ".py",
   "mimetype": "text/x-python",
   "name": "python",
   "nbconvert_exporter": "python",
   "pygments_lexer": "ipython3",
   "version": "3.9.12"
  },
  "orig_nbformat": 4,
  "vscode": {
   "interpreter": {
    "hash": "a077222d77dfe082b8f1dd562ad70e458ac2ab76993a0b248ab0476e32e9e8dd"
   }
  }
 },
 "nbformat": 4,
 "nbformat_minor": 2
}
