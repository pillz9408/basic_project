{
 "cells": [
  {
   "cell_type": "code",
   "execution_count": 2,
   "metadata": {},
   "outputs": [],
   "source": [
    "from selenium import webdriver\n",
    "from webdriver_manager.chrome import ChromeDriverManager\n",
    "from bs4 import BeautifulSoup as bs\n",
    "\n",
    "import time\n",
    "from selenium.webdriver.common.keys import Keys\n",
    "from selenium.webdriver.common.action_chains import ActionChains"
   ]
  },
  {
   "cell_type": "code",
   "execution_count": 5,
   "metadata": {},
   "outputs": [],
   "source": [
    "driver = webdriver.Chrome(ChromeDriverManager().install())\n",
    "\n",
    "driver.get(\"https://section.blog.naver.com/Search/Post.naver?pageNo=1&rangeType=ALL&orderBy=sim&keyword=%EC%98%81%EC%96%91%EC%84%B1%EB%B6%84%ED%91%9C/\")"
   ]
  },
  {
   "cell_type": "code",
   "execution_count": 36,
   "metadata": {},
   "outputs": [],
   "source": [
    "blog_text=[]\n",
    "for j in range(1,101):\n",
    "    \n",
    "    driver.get(f'https://section.blog.naver.com/Search/Post.naver?pageNo={j}&rangeType=ALL&orderBy=sim&keyword=%EC%98%81%EC%96%91%EC%84%B1%EB%B6%84%ED%91%9C')\n",
    "    time.sleep(1)\n",
    "\n",
    "    soup = bs(driver.page_source, 'html.parser')\n",
    "    title = soup.select('div > div.info_post > div.desc > a.desc_inner')\n",
    "\n",
    "    for i in title:\n",
    "        driver.get(f\"{i['href']}\")\n",
    "        time.sleep(1)\n",
    "        \n",
    "        driver.switch_to.frame('mainFrame')\n",
    "        try:\n",
    "            blog_text.append(driver.find_element_by_css_selector('div > div.se-main-container').text)\n",
    "            n=n+1\n",
    "        except:\n",
    "            pass\n",
    "        \n",
    "        time.sleep(1)\n",
    "    \n"
   ]
  },
  {
   "cell_type": "code",
   "execution_count": 37,
   "metadata": {},
   "outputs": [
    {
     "data": {
      "text/plain": [
       "539"
      ]
     },
     "execution_count": 37,
     "metadata": {},
     "output_type": "execute_result"
    }
   ],
   "source": [
    "len(blog_text)"
   ]
  },
  {
   "cell_type": "code",
   "execution_count": 38,
   "metadata": {},
   "outputs": [],
   "source": [
    "import pickle\n",
    "with open('blog_text.pkl', 'wb') as f:\n",
    "    pickle.dump(blog_text, f)"
   ]
  }
 ],
 "metadata": {
  "kernelspec": {
   "display_name": "Python 3.9.12 ('base')",
   "language": "python",
   "name": "python3"
  },
  "language_info": {
   "codemirror_mode": {
    "name": "ipython",
    "version": 3
   },
   "file_extension": ".py",
   "mimetype": "text/x-python",
   "name": "python",
   "nbconvert_exporter": "python",
   "pygments_lexer": "ipython3",
   "version": "3.9.12"
  },
  "orig_nbformat": 4,
  "vscode": {
   "interpreter": {
    "hash": "a077222d77dfe082b8f1dd562ad70e458ac2ab76993a0b248ab0476e32e9e8dd"
   }
  }
 },
 "nbformat": 4,
 "nbformat_minor": 2
}
